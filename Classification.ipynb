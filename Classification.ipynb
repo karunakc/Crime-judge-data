{
 "cells": [
  {
   "cell_type": "markdown",
   "metadata": {},
   "source": [
    "# Classification\n",
    "\n",
    "## the classification problem is as follows:\n",
    "\n",
    "Given the state_id, district_id, count_no, gender of defendent and petitioner, gender of advocated of defendent and petitioner, is it possible to classify whether a particular court case is a criminal case or not? \n",
    "The problem mainly looks at the role of the demographics and the gender of the subjects involved in a particular case to classify as criminal or not criminal case. "
   ]
  },
  {
   "cell_type": "code",
   "execution_count": 37,
   "metadata": {},
   "outputs": [],
   "source": [
    "import pandas as pd\n",
    "from sklearn.model_selection import train_test_split\n",
    "from sklearn.preprocessing import OneHotEncoder\n",
    "from sklearn.linear_model import SGDClassifier\n",
    "from sklearn.pipeline import make_pipeline\n",
    "from sklearn.preprocessing import StandardScaler\n",
    "from sklearn.linear_model import LogisticRegression\n",
    "from sklearn.neighbors import KNeighborsClassifier\n",
    "from sklearn.naive_bayes import GaussianNB\n",
    "from sklearn import metrics\n",
    "import matplotlib.pyplot as plt \n",
    "import warnings\n",
    "warnings.filterwarnings('ignore')"
   ]
  },
  {
   "cell_type": "markdown",
   "metadata": {},
   "source": [
    "## Import all the case files\n",
    "\n",
    "- sample a fraction of 0.0015, importing all files together without sampling is not possible due to limitation in RAM\n",
    "- then combined these sampled case files"
   ]
  },
  {
   "cell_type": "code",
   "execution_count": 2,
   "metadata": {},
   "outputs": [],
   "source": [
    "case_10 = pd.read_csv('cases/cases_2010.csv')\n",
    "case_10 = case_10.sample(frac=0.0015)"
   ]
  },
  {
   "cell_type": "code",
   "execution_count": 3,
   "metadata": {},
   "outputs": [],
   "source": [
    "case_11 = pd.read_csv('cases/cases_2011.csv')\n",
    "case_11 = case_11.sample(frac=0.0015)"
   ]
  },
  {
   "cell_type": "code",
   "execution_count": 4,
   "metadata": {},
   "outputs": [],
   "source": [
    "case_12 = pd.read_csv('cases/cases_2012.csv')\n",
    "case_12 = case_12.sample(frac=0.0015)"
   ]
  },
  {
   "cell_type": "code",
   "execution_count": 5,
   "metadata": {},
   "outputs": [],
   "source": [
    "case_13 = pd.read_csv('cases/cases_2013.csv')\n",
    "case_13 = case_13.sample(frac=0.0015)"
   ]
  },
  {
   "cell_type": "code",
   "execution_count": 6,
   "metadata": {},
   "outputs": [],
   "source": [
    "case_14 = pd.read_csv('cases/cases_2014.csv')\n",
    "case_14 = case_14.sample(frac=0.0015)"
   ]
  },
  {
   "cell_type": "code",
   "execution_count": 7,
   "metadata": {},
   "outputs": [],
   "source": [
    "case_15 = pd.read_csv('cases/cases_2015.csv')\n",
    "case_15 = case_15.sample(frac=0.0015)"
   ]
  },
  {
   "cell_type": "code",
   "execution_count": 8,
   "metadata": {},
   "outputs": [],
   "source": [
    "case_16 = pd.read_csv('cases/cases_2016.csv')\n",
    "case_16 = case_16.sample(frac=0.0015)"
   ]
  },
  {
   "cell_type": "code",
   "execution_count": 9,
   "metadata": {},
   "outputs": [],
   "source": [
    "case_17 = pd.read_csv('cases/cases_2017.csv')\n",
    "case_17 = case_17.sample(frac=0.0015)"
   ]
  },
  {
   "cell_type": "code",
   "execution_count": 10,
   "metadata": {},
   "outputs": [],
   "source": [
    "case_18 = pd.read_csv('cases/cases_2018.csv')\n",
    "case_18 = case_18.sample(frac=0.0015)"
   ]
  },
  {
   "cell_type": "code",
   "execution_count": 11,
   "metadata": {},
   "outputs": [],
   "source": [
    "cases_sampled= pd.concat([case_10, case_11, case_12, case_13, case_14, case_15, case_16, case_17, case_18])"
   ]
  },
  {
   "cell_type": "code",
   "execution_count": 12,
   "metadata": {},
   "outputs": [
    {
     "data": {
      "text/plain": [
       "(121403, 19)"
      ]
     },
     "execution_count": 12,
     "metadata": {},
     "output_type": "execute_result"
    }
   ],
   "source": [
    "cases_sampled.shape"
   ]
  },
  {
   "cell_type": "code",
   "execution_count": 13,
   "metadata": {},
   "outputs": [
    {
     "data": {
      "text/html": [
       "<div>\n",
       "<style scoped>\n",
       "    .dataframe tbody tr th:only-of-type {\n",
       "        vertical-align: middle;\n",
       "    }\n",
       "\n",
       "    .dataframe tbody tr th {\n",
       "        vertical-align: top;\n",
       "    }\n",
       "\n",
       "    .dataframe thead th {\n",
       "        text-align: right;\n",
       "    }\n",
       "</style>\n",
       "<table border=\"1\" class=\"dataframe\">\n",
       "  <thead>\n",
       "    <tr style=\"text-align: right;\">\n",
       "      <th></th>\n",
       "      <th>ddl_case_id</th>\n",
       "      <th>year</th>\n",
       "      <th>state_code</th>\n",
       "      <th>dist_code</th>\n",
       "      <th>court_no</th>\n",
       "      <th>cino</th>\n",
       "      <th>judge_position</th>\n",
       "      <th>female_defendant</th>\n",
       "      <th>female_petitioner</th>\n",
       "      <th>female_adv_def</th>\n",
       "      <th>female_adv_pet</th>\n",
       "      <th>type_name</th>\n",
       "      <th>purpose_name</th>\n",
       "      <th>disp_name</th>\n",
       "      <th>date_of_filing</th>\n",
       "      <th>date_of_decision</th>\n",
       "      <th>date_first_list</th>\n",
       "      <th>date_last_list</th>\n",
       "      <th>date_next_list</th>\n",
       "    </tr>\n",
       "  </thead>\n",
       "  <tbody>\n",
       "    <tr>\n",
       "      <th>1359186</th>\n",
       "      <td>03-20-06-201200141462010</td>\n",
       "      <td>2010</td>\n",
       "      <td>3</td>\n",
       "      <td>20</td>\n",
       "      <td>6</td>\n",
       "      <td>KABC0B0003052010</td>\n",
       "      <td>small cause court</td>\n",
       "      <td>0 male</td>\n",
       "      <td>0 male</td>\n",
       "      <td>-9999</td>\n",
       "      <td>-9999</td>\n",
       "      <td>572.0</td>\n",
       "      <td>2346.0</td>\n",
       "      <td>15</td>\n",
       "      <td>2010-02-22</td>\n",
       "      <td>2013-11-21</td>\n",
       "      <td>2011-04-28</td>\n",
       "      <td>2013-11-13</td>\n",
       "      <td>2013-11-21</td>\n",
       "    </tr>\n",
       "    <tr>\n",
       "      <th>1290164</th>\n",
       "      <td>03-20-01-201200291662010</td>\n",
       "      <td>2010</td>\n",
       "      <td>3</td>\n",
       "      <td>20</td>\n",
       "      <td>1</td>\n",
       "      <td>KABC020311842010</td>\n",
       "      <td>small cause court</td>\n",
       "      <td>0 male</td>\n",
       "      <td>-9998 unclear</td>\n",
       "      <td>-9999</td>\n",
       "      <td>0</td>\n",
       "      <td>572.0</td>\n",
       "      <td>4946.0</td>\n",
       "      <td>22</td>\n",
       "      <td>2010-02-22</td>\n",
       "      <td>2016-01-16</td>\n",
       "      <td>2013-06-21</td>\n",
       "      <td>2015-11-27</td>\n",
       "      <td>2016-01-16</td>\n",
       "    </tr>\n",
       "    <tr>\n",
       "      <th>384590</th>\n",
       "      <td>01-21-02-203403002662010</td>\n",
       "      <td>2010</td>\n",
       "      <td>1</td>\n",
       "      <td>21</td>\n",
       "      <td>2</td>\n",
       "      <td>MHTH030050872010</td>\n",
       "      <td>judicial magistrate court</td>\n",
       "      <td>0 male</td>\n",
       "      <td>-9998 unclear</td>\n",
       "      <td>-9999</td>\n",
       "      <td>-9999</td>\n",
       "      <td>4400.0</td>\n",
       "      <td>3006.0</td>\n",
       "      <td>25</td>\n",
       "      <td>2010-01-20</td>\n",
       "      <td>2011-07-13</td>\n",
       "      <td>2011-02-08</td>\n",
       "      <td>2011-03-14</td>\n",
       "      <td>2011-03-25</td>\n",
       "    </tr>\n",
       "    <tr>\n",
       "      <th>1244410</th>\n",
       "      <td>03-17-12-201200001392010</td>\n",
       "      <td>2010</td>\n",
       "      <td>3</td>\n",
       "      <td>17</td>\n",
       "      <td>12</td>\n",
       "      <td>KACM400001372010</td>\n",
       "      <td>judicial magistrate court</td>\n",
       "      <td>0 male</td>\n",
       "      <td>0 male</td>\n",
       "      <td>-9999</td>\n",
       "      <td>-9999</td>\n",
       "      <td>572.0</td>\n",
       "      <td>384.0</td>\n",
       "      <td>19</td>\n",
       "      <td>2010-02-04</td>\n",
       "      <td>2010-02-26</td>\n",
       "      <td>NaN</td>\n",
       "      <td>2010-02-26</td>\n",
       "      <td>2010-02-26</td>\n",
       "    </tr>\n",
       "    <tr>\n",
       "      <th>3699560</th>\n",
       "      <td>22-18-03-204301001182010</td>\n",
       "      <td>2010</td>\n",
       "      <td>22</td>\n",
       "      <td>18</td>\n",
       "      <td>3</td>\n",
       "      <td>PBHO010000562010</td>\n",
       "      <td>district and sessions court</td>\n",
       "      <td>0 male</td>\n",
       "      <td>1 female</td>\n",
       "      <td>-9999</td>\n",
       "      <td>0</td>\n",
       "      <td>2875.0</td>\n",
       "      <td>1963.0</td>\n",
       "      <td>5</td>\n",
       "      <td>2010-08-26</td>\n",
       "      <td>2012-12-03</td>\n",
       "      <td>2011-09-05</td>\n",
       "      <td>2012-11-30</td>\n",
       "      <td>2012-12-03</td>\n",
       "    </tr>\n",
       "  </tbody>\n",
       "</table>\n",
       "</div>"
      ],
      "text/plain": [
       "                      ddl_case_id  year  state_code  dist_code  court_no  \\\n",
       "1359186  03-20-06-201200141462010  2010           3         20         6   \n",
       "1290164  03-20-01-201200291662010  2010           3         20         1   \n",
       "384590   01-21-02-203403002662010  2010           1         21         2   \n",
       "1244410  03-17-12-201200001392010  2010           3         17        12   \n",
       "3699560  22-18-03-204301001182010  2010          22         18         3   \n",
       "\n",
       "                     cino               judge_position female_defendant  \\\n",
       "1359186  KABC0B0003052010            small cause court           0 male   \n",
       "1290164  KABC020311842010            small cause court           0 male   \n",
       "384590   MHTH030050872010    judicial magistrate court           0 male   \n",
       "1244410  KACM400001372010    judicial magistrate court           0 male   \n",
       "3699560  PBHO010000562010  district and sessions court           0 male   \n",
       "\n",
       "        female_petitioner  female_adv_def  female_adv_pet  type_name  \\\n",
       "1359186            0 male           -9999           -9999      572.0   \n",
       "1290164     -9998 unclear           -9999               0      572.0   \n",
       "384590      -9998 unclear           -9999           -9999     4400.0   \n",
       "1244410            0 male           -9999           -9999      572.0   \n",
       "3699560          1 female           -9999               0     2875.0   \n",
       "\n",
       "         purpose_name  disp_name date_of_filing date_of_decision  \\\n",
       "1359186        2346.0         15     2010-02-22       2013-11-21   \n",
       "1290164        4946.0         22     2010-02-22       2016-01-16   \n",
       "384590         3006.0         25     2010-01-20       2011-07-13   \n",
       "1244410         384.0         19     2010-02-04       2010-02-26   \n",
       "3699560        1963.0          5     2010-08-26       2012-12-03   \n",
       "\n",
       "        date_first_list date_last_list date_next_list  \n",
       "1359186      2011-04-28     2013-11-13     2013-11-21  \n",
       "1290164      2013-06-21     2015-11-27     2016-01-16  \n",
       "384590       2011-02-08     2011-03-14     2011-03-25  \n",
       "1244410             NaN     2010-02-26     2010-02-26  \n",
       "3699560      2011-09-05     2012-11-30     2012-12-03  "
      ]
     },
     "execution_count": 13,
     "metadata": {},
     "output_type": "execute_result"
    }
   ],
   "source": [
    "cases_sampled.head()"
   ]
  },
  {
   "cell_type": "markdown",
   "metadata": {},
   "source": [
    "## building the dataset\n",
    "\n",
    "- import the acts_section file from which we will get the information on whether the case is criminal case or not based on the case id"
   ]
  },
  {
   "cell_type": "code",
   "execution_count": 14,
   "metadata": {},
   "outputs": [
    {
     "name": "stderr",
     "output_type": "stream",
     "text": [
      "C:\\Users\\karun\\AppData\\Local\\Temp\\ipykernel_15304\\3946893071.py:1: DtypeWarning: Columns (3) have mixed types. Specify dtype option on import or set low_memory=False.\n",
      "  acts = pd.read_csv('acts_sections.csv')\n"
     ]
    }
   ],
   "source": [
    "acts = pd.read_csv('acts_sections.csv')"
   ]
  },
  {
   "cell_type": "markdown",
   "metadata": {},
   "source": [
    "- from the 120k sampled files, extract only the ones which have information of whether the case is a criminal case or not"
   ]
  },
  {
   "cell_type": "code",
   "execution_count": 15,
   "metadata": {},
   "outputs": [],
   "source": [
    "case_ids = list(acts['ddl_case_id'])\n",
    "new_sample = cases_sampled[cases_sampled['ddl_case_id'].isin(case_ids)]"
   ]
  },
  {
   "cell_type": "code",
   "execution_count": 16,
   "metadata": {},
   "outputs": [],
   "source": [
    "case_ids = list(new_sample['ddl_case_id'])\n",
    "acts = acts[acts['ddl_case_id'].isin(case_ids)]"
   ]
  },
  {
   "cell_type": "code",
   "execution_count": 17,
   "metadata": {},
   "outputs": [],
   "source": [
    "new_sample = pd.merge(new_sample, acts, how='left', on='ddl_case_id')"
   ]
  },
  {
   "cell_type": "code",
   "execution_count": 18,
   "metadata": {},
   "outputs": [
    {
     "data": {
      "text/plain": [
       "ddl_case_id                0\n",
       "year                       0\n",
       "state_code                 0\n",
       "dist_code                  0\n",
       "court_no                   0\n",
       "cino                       0\n",
       "judge_position             0\n",
       "female_defendant           0\n",
       "female_petitioner          0\n",
       "female_adv_def             0\n",
       "female_adv_pet             0\n",
       "type_name                  0\n",
       "purpose_name            2534\n",
       "disp_name                  0\n",
       "date_of_filing             0\n",
       "date_of_decision       28814\n",
       "date_first_list         2919\n",
       "date_last_list           610\n",
       "date_next_list          1837\n",
       "act                       12\n",
       "section                 6052\n",
       "bailable_ipc           76563\n",
       "number_sections_ipc    72462\n",
       "criminal                   0\n",
       "dtype: int64"
      ]
     },
     "execution_count": 18,
     "metadata": {},
     "output_type": "execute_result"
    }
   ],
   "source": [
    "new_sample.isna().sum()"
   ]
  },
  {
   "cell_type": "markdown",
   "metadata": {},
   "source": [
    "## data preprocessing"
   ]
  },
  {
   "cell_type": "code",
   "execution_count": 19,
   "metadata": {},
   "outputs": [],
   "source": [
    "new_sample=new_sample.drop(['bailable_ipc', 'number_sections_ipc','purpose_name','ddl_case_id', 'cino','date_of_decision'], axis=1)"
   ]
  },
  {
   "cell_type": "code",
   "execution_count": 20,
   "metadata": {},
   "outputs": [],
   "source": [
    "clean_sample = new_sample.dropna()"
   ]
  },
  {
   "cell_type": "code",
   "execution_count": 21,
   "metadata": {},
   "outputs": [
    {
     "data": {
      "text/plain": [
       "(year                 0\n",
       " state_code           0\n",
       " dist_code            0\n",
       " court_no             0\n",
       " judge_position       0\n",
       " female_defendant     0\n",
       " female_petitioner    0\n",
       " female_adv_def       0\n",
       " female_adv_pet       0\n",
       " type_name            0\n",
       " disp_name            0\n",
       " date_of_filing       0\n",
       " date_first_list      0\n",
       " date_last_list       0\n",
       " date_next_list       0\n",
       " act                  0\n",
       " section              0\n",
       " criminal             0\n",
       " dtype: int64,\n",
       " (89879, 18))"
      ]
     },
     "execution_count": 21,
     "metadata": {},
     "output_type": "execute_result"
    }
   ],
   "source": [
    "clean_sample.isna().sum(), clean_sample.shape"
   ]
  },
  {
   "cell_type": "code",
   "execution_count": 22,
   "metadata": {},
   "outputs": [],
   "source": [
    "clean_sample=clean_sample.drop(['act', 'section','type_name','disp_name', 'date_of_filing', 'date_first_list', 'date_last_list','date_next_list' ], axis=1)"
   ]
  },
  {
   "cell_type": "markdown",
   "metadata": {},
   "source": [
    "- after dropping columns with too many missing values, rows with some missing values, columns which won't be necessary we have the final clean dataset which can be used\n",
    "- now we can split the dataset into feature and target"
   ]
  },
  {
   "cell_type": "code",
   "execution_count": 23,
   "metadata": {},
   "outputs": [],
   "source": [
    "y = clean_sample['criminal']\n",
    "X = clean_sample.drop(['criminal'], axis=1)"
   ]
  },
  {
   "cell_type": "code",
   "execution_count": 24,
   "metadata": {},
   "outputs": [
    {
     "data": {
      "text/plain": [
       "year                  int64\n",
       "state_code            int64\n",
       "dist_code             int64\n",
       "court_no              int64\n",
       "judge_position       object\n",
       "female_defendant     object\n",
       "female_petitioner    object\n",
       "female_adv_def        int64\n",
       "female_adv_pet        int64\n",
       "dtype: object"
      ]
     },
     "execution_count": 24,
     "metadata": {},
     "output_type": "execute_result"
    }
   ],
   "source": [
    "X.dtypes"
   ]
  },
  {
   "cell_type": "markdown",
   "metadata": {},
   "source": [
    "- where possible, map the string values to integers"
   ]
  },
  {
   "cell_type": "code",
   "execution_count": 25,
   "metadata": {},
   "outputs": [],
   "source": [
    "gender_map={'0 male':0, '-9998 unclear':-9998, '1 female': 1, '-9999 missing name': -9999}\n",
    "X['female_defendant'] = X['female_defendant'].map(gender_map)\n",
    "X['female_petitioner'] = X['female_petitioner'].map(gender_map)"
   ]
  },
  {
   "cell_type": "markdown",
   "metadata": {},
   "source": [
    "- one hot encoding of the judges position"
   ]
  },
  {
   "cell_type": "code",
   "execution_count": 26,
   "metadata": {},
   "outputs": [
    {
     "name": "stderr",
     "output_type": "stream",
     "text": [
      "c:\\Users\\karun\\miniconda3\\envs\\OtherProjects\\Lib\\site-packages\\sklearn\\preprocessing\\_encoders.py:868: FutureWarning: `sparse` was renamed to `sparse_output` in version 1.2 and will be removed in 1.4. `sparse_output` is ignored unless you leave `sparse` to its default value.\n",
      "  warnings.warn(\n",
      "c:\\Users\\karun\\miniconda3\\envs\\OtherProjects\\Lib\\site-packages\\sklearn\\utils\\validation.py:605: FutureWarning: is_sparse is deprecated and will be removed in a future version. Check `isinstance(dtype, pd.SparseDtype)` instead.\n",
      "  if is_sparse(pd_dtype):\n",
      "c:\\Users\\karun\\miniconda3\\envs\\OtherProjects\\Lib\\site-packages\\sklearn\\utils\\validation.py:614: FutureWarning: is_sparse is deprecated and will be removed in a future version. Check `isinstance(dtype, pd.SparseDtype)` instead.\n",
      "  if is_sparse(pd_dtype) or not is_extension_array_dtype(pd_dtype):\n",
      "c:\\Users\\karun\\miniconda3\\envs\\OtherProjects\\Lib\\site-packages\\sklearn\\utils\\validation.py:605: FutureWarning: is_sparse is deprecated and will be removed in a future version. Check `isinstance(dtype, pd.SparseDtype)` instead.\n",
      "  if is_sparse(pd_dtype):\n",
      "c:\\Users\\karun\\miniconda3\\envs\\OtherProjects\\Lib\\site-packages\\sklearn\\utils\\validation.py:614: FutureWarning: is_sparse is deprecated and will be removed in a future version. Check `isinstance(dtype, pd.SparseDtype)` instead.\n",
      "  if is_sparse(pd_dtype) or not is_extension_array_dtype(pd_dtype):\n"
     ]
    }
   ],
   "source": [
    "OHE = OneHotEncoder(sparse=False, drop='first')\n",
    "judge_pos = OHE.fit_transform(X[['judge_position']])"
   ]
  },
  {
   "cell_type": "code",
   "execution_count": 27,
   "metadata": {},
   "outputs": [],
   "source": [
    "X=X.drop(['judge_position'], axis=1)"
   ]
  },
  {
   "cell_type": "code",
   "execution_count": 28,
   "metadata": {},
   "outputs": [],
   "source": [
    "judge_position = pd.DataFrame(judge_pos, columns = [\"Position_\"+str(int(i)) for i in range(judge_pos.shape[1])])"
   ]
  },
  {
   "cell_type": "code",
   "execution_count": 29,
   "metadata": {},
   "outputs": [
    {
     "data": {
      "text/plain": [
       "((89879, 8), (89879, 361))"
      ]
     },
     "execution_count": 29,
     "metadata": {},
     "output_type": "execute_result"
    }
   ],
   "source": [
    "X.shape, judge_position.shape"
   ]
  },
  {
   "cell_type": "markdown",
   "metadata": {},
   "source": [
    "- combining the rest of the dataset with the dataframe created from the one hot encoded array of judges position"
   ]
  },
  {
   "cell_type": "code",
   "execution_count": 30,
   "metadata": {},
   "outputs": [],
   "source": [
    "X = pd.concat([X.reset_index(drop=True), judge_position.reset_index(drop=True)], axis=1)"
   ]
  },
  {
   "cell_type": "markdown",
   "metadata": {},
   "source": [
    "## train test split"
   ]
  },
  {
   "cell_type": "code",
   "execution_count": 31,
   "metadata": {},
   "outputs": [],
   "source": [
    "X_train, X_test, Y_train, Y_test = train_test_split(X, y, test_size=0.2, random_state=42)"
   ]
  },
  {
   "cell_type": "markdown",
   "metadata": {},
   "source": [
    "## classification model 1 - Logistic Regression"
   ]
  },
  {
   "cell_type": "code",
   "execution_count": 38,
   "metadata": {},
   "outputs": [
    {
     "name": "stdout",
     "output_type": "stream",
     "text": [
      "              precision    recall  f1-score   support\n",
      "\n",
      "           0       0.68      0.94      0.79     11979\n",
      "           1       0.49      0.12      0.19      5997\n",
      "\n",
      "    accuracy                           0.66     17976\n",
      "   macro avg       0.58      0.53      0.49     17976\n",
      "weighted avg       0.62      0.66      0.59     17976\n",
      "\n"
     ]
    }
   ],
   "source": [
    "clf_1 = LogisticRegression(random_state=0)\n",
    "clf_1.fit(X_train, Y_train)\n",
    "Y_pred = clf_1.predict(X_test)\n",
    "print(metrics.classification_report(Y_test, Y_pred))"
   ]
  },
  {
   "cell_type": "markdown",
   "metadata": {},
   "source": [
    "## classification model 2 - K nearest neighbors"
   ]
  },
  {
   "cell_type": "code",
   "execution_count": 39,
   "metadata": {},
   "outputs": [
    {
     "name": "stdout",
     "output_type": "stream",
     "text": [
      "              precision    recall  f1-score   support\n",
      "\n",
      "           0       0.74      0.91      0.82     11979\n",
      "           1       0.66      0.37      0.48      5997\n",
      "\n",
      "    accuracy                           0.73     17976\n",
      "   macro avg       0.70      0.64      0.65     17976\n",
      "weighted avg       0.72      0.73      0.70     17976\n",
      "\n"
     ]
    }
   ],
   "source": [
    "clf_2 = KNeighborsClassifier(n_neighbors=2)\n",
    "clf_2.fit(X_train, Y_train)\n",
    "Y_pred = clf_2.predict(X_test.values)\n",
    "print(metrics.classification_report(Y_test, Y_pred))"
   ]
  },
  {
   "cell_type": "markdown",
   "metadata": {},
   "source": [
    "## classification model 3 - SGD Classifier"
   ]
  },
  {
   "cell_type": "code",
   "execution_count": 40,
   "metadata": {},
   "outputs": [
    {
     "name": "stdout",
     "output_type": "stream",
     "text": [
      "              precision    recall  f1-score   support\n",
      "\n",
      "           0       0.68      0.96      0.79     11979\n",
      "           1       0.51      0.09      0.15      5997\n",
      "\n",
      "    accuracy                           0.67     17976\n",
      "   macro avg       0.59      0.52      0.47     17976\n",
      "weighted avg       0.62      0.67      0.58     17976\n",
      "\n"
     ]
    }
   ],
   "source": [
    "clf_3 = make_pipeline(StandardScaler(), SGDClassifier(max_iter=10000, tol=1e-3))\n",
    "clf_3.fit(X_train, Y_train)\n",
    "Y_pred = clf_3.predict(X_test.values)\n",
    "print(metrics.classification_report(Y_test, Y_pred))"
   ]
  },
  {
   "cell_type": "code",
   "execution_count": 41,
   "metadata": {},
   "outputs": [
    {
     "name": "stdout",
     "output_type": "stream",
     "text": [
      "              precision    recall  f1-score   support\n",
      "\n",
      "           0       0.82      0.45      0.58     11979\n",
      "           1       0.42      0.80      0.55      5997\n",
      "\n",
      "    accuracy                           0.57     17976\n",
      "   macro avg       0.62      0.63      0.57     17976\n",
      "weighted avg       0.69      0.57      0.57     17976\n",
      "\n"
     ]
    }
   ],
   "source": [
    "clf_4 = GaussianNB()\n",
    "clf_4.fit(X_train, Y_train)\n",
    "Y_pred=clf_4.predict(X_test)\n",
    "print(metrics.classification_report(Y_test, Y_pred))"
   ]
  },
  {
   "cell_type": "markdown",
   "metadata": {},
   "source": [
    "## comparison in accuracy"
   ]
  },
  {
   "cell_type": "code",
   "execution_count": 36,
   "metadata": {},
   "outputs": [
    {
     "data": {
      "text/plain": [
       "Text(0, 0.5, 'accuracy')"
      ]
     },
     "execution_count": 36,
     "metadata": {},
     "output_type": "execute_result"
    },
    {
     "data": {
      "image/png": "[encoded data removed]",
      "text/plain": [
       "<Figure size 500x500 with 1 Axes>"
      ]
     },
     "metadata": {},
     "output_type": "display_data"
    }
   ],
   "source": [
    "plotdata = pd.DataFrame({\"model accuracy\":[0.67, 0.73, 0.67, 0.56]}, index=[\"Logstic Regression\", \"KNearest Neighbors\", \"SGD Classifier\", \"Naive Bayes\"])\n",
    "plotdata.plot(kind=\"bar\",figsize=(5, 5), color='lightcoral', grid=True)\n",
    "plt.title(\"Accuracy Comparison of different classification models\")\n",
    "plt.ylabel(\"accuracy\")"
   ]
  },
  {
   "cell_type": "markdown",
   "metadata": {},
   "source": [
    "### insights\n",
    "\n",
    "- on trying the most popular classification models, the one which gave the highest accuracy is K Nearest Neighbors- 73%\n",
    "- Logistic Regrssion and SGD Classifiers have the same accuracy of 67%, while the least was that of Naive Bayes with 56%\n",
    "\n",
    "- considering that the classification was done purely based on the location of the case and the gender of the different parties involved, 73% is a good accuracy percent\n",
    "- this tells us that certain locations and genders can give insights on the severity of the crime\n",
    "- naive bayes relies on feature independence for its classification. A poor performance implies that the features used for the classification task are not completely independent of each other\n",
    "\n",
    "- KNN, Logistic Regression, SGD Classifier- high recall for class 0 => they are good at accurately identifying all the tru class 0 datapoints (non criminal cases)"
   ]
  },
  {
   "cell_type": "code",
   "execution_count": null,
   "metadata": {},
   "outputs": [],
   "source": []
  }
 ],
 "metadata": {
  "kernelspec": {
   "display_name": "OtherProjects",
   "language": "python",
   "name": "python3"
  },
  "language_info": {
   "codemirror_mode": {
    "name": "ipython",
    "version": 3
   },
   "file_extension": ".py",
   "mimetype": "text/x-python",
   "name": "python",
   "nbconvert_exporter": "python",
   "pygments_lexer": "ipython3",
   "version": "3.11.4"
  },
  "orig_nbformat": 4
 },
 "nbformat": 4,
 "nbformat_minor": 2
}
